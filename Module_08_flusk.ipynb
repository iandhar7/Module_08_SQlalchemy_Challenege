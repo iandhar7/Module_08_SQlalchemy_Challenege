{
 "cells": [
  {
   "cell_type": "code",
   "execution_count": 1,
   "id": "67007f18-b9b6-40f6-9241-dbc3765c392e",
   "metadata": {},
   "outputs": [],
   "source": [
    "from matplotlib import style\n",
    "style.use('fivethirtyeight')\n",
    "\n",
    "import matplotlib.pyplot as plt\n",
    "import numpy as np\n",
    "import pandas as pd\n",
    "import datetime as dt\n",
    "\n",
    "import sqlalchemy\n",
    "from sqlalchemy.ext.automap import automap_base\n",
    "from sqlalchemy.orm import Session\n",
    "from sqlalchemy import create_engine, func, inspect\n",
    "\n",
    "from flask import Flask, jsonify"
   ]
  },
  {
   "cell_type": "code",
   "execution_count": 2,
   "id": "eeb25e53-109f-44a3-b0b6-ad3eb684c4dd",
   "metadata": {},
   "outputs": [],
   "source": [
    "engine = create_engine(\"sqlite:///C:/Users/iandh/Downloads/Module 10/Resources/hawaii.sqlite\")"
   ]
  },
  {
   "cell_type": "code",
   "execution_count": 16,
   "id": "1647a1a7-383e-470a-b40a-dba909941c85",
   "metadata": {},
   "outputs": [
    {
     "name": "stderr",
     "output_type": "stream",
     "text": [
      "C:\\Users\\iandh\\AppData\\Local\\Temp\\ipykernel_1516\\297993288.py:2: SADeprecationWarning: The AutomapBase.prepare.reflect parameter is deprecated and will be removed in a future release.  Reflection is enabled when AutomapBase.prepare.autoload_with is passed.\n",
      "  Base.prepare(engine, reflect=True)\n"
     ]
    }
   ],
   "source": [
    "Base = automap_base()\n",
    "Base.prepare(engine, reflect=True)\n",
    "Measurement = Base.classes.measurement\n",
    "Station = Base.classes.station"
   ]
  },
  {
   "cell_type": "code",
   "execution_count": 17,
   "id": "ecfaab8f-c406-48f7-83ab-3d48b3eb82ab",
   "metadata": {},
   "outputs": [],
   "source": [
    "session = Session(engine)"
   ]
  },
  {
   "cell_type": "code",
   "execution_count": 18,
   "id": "b2dad96e-bfe0-4d2b-9fa6-cb89181cff14",
   "metadata": {},
   "outputs": [],
   "source": [
    "app = Flask(__name__)"
   ]
  },
  {
   "cell_type": "code",
   "execution_count": 19,
   "id": "0589d580-f419-4afb-923f-153afeb6abf0",
   "metadata": {},
   "outputs": [],
   "source": [
    "@app.route(\"/\")\n",
    "def welcome():\n",
    "    \"\"\"List all available api routes.\"\"\"\n",
    "    return (\n",
    "        f\"Available Routes:<br/>\"\n",
    "        f\"/api/v1.0/precipitation<br/>\"\n",
    "        f\"/api/v1.0/stations<br/>\"\n",
    "        f\"/api/v1.0/tobs<br/>\"\n",
    "        f\"/api/v1.0/<start><br/>\"\n",
    "        f\"/api/v1.0/<start>/<end><br/>\"\n",
    "    )\n"
   ]
  },
  {
   "cell_type": "code",
   "execution_count": 20,
   "id": "8e1304b5-3b32-4e1a-943a-c0b2ff58677d",
   "metadata": {},
   "outputs": [],
   "source": [
    "@app.route(\"/api/v1.0/precipitation\")\n",
    "def precipitation():\n",
    "\n",
    "    last_data_point = session.query(Measurement.date).order_by(Measurement.date.desc()).first()\n",
    "    year_ago = dt.date(2017,8,23) - dt.timedelta(days= 365)\n",
    "\n",
    "    year_prcp = session.query(Measurement.date, Measurement.prcp).\\\n",
    "    filter(Measurement.date >= year_ago, Measurement.prcp != None).\\\n",
    "    order_by(Measurement.date).all()\n",
    "\n",
    "    return jsonify(dict(year_prcp))"
   ]
  },
  {
   "cell_type": "code",
   "execution_count": 21,
   "id": "bb3bf8a2-28cb-4abb-bc5f-68d88522781b",
   "metadata": {},
   "outputs": [],
   "source": [
    "@app.route(\"/api/v1.0/stations\")\n",
    "def stations():\n",
    "    session.query(Measurement.station).distinct().count()\n",
    "    active_stations = session.query(Measurement.station,func.count(Measurement.station)).\\\n",
    "                               group_by(Measurement.station).\\\n",
    "                               order_by(func.count(Measurement.station).desc()).all()\n",
    "\n",
    "    return jsonify(dict(active_stations))"
   ]
  },
  {
   "cell_type": "code",
   "execution_count": 22,
   "id": "7ab8ea9b-b002-4c92-a19b-80be7dd8e5e7",
   "metadata": {},
   "outputs": [],
   "source": [
    "@app.route(\"/api/v1.0/tobs\")\n",
    "def tobs():\n",
    "    \n",
    "    year_ago = dt.date(2017,8,23) - dt.timedelta(days= 365)\n",
    "    year_temp = session.query(Measurement.tobs).\\\n",
    "        filter(Measurement.date >= year_ago, Measurement.station == 'USC00519281').\\\n",
    "         order_by(Measurement.tobs).all()\n",
    "\n",
    "    yr_temp = []\n",
    "    for y_t in year_temp:\n",
    "        yrtemp = {}\n",
    "        yrtemp[\"tobs\"] = y_t.tobs\n",
    "        yr_temp.append(yrtemp)\n",
    "\n",
    "    return jsonify(yr_temp)"
   ]
  },
  {
   "cell_type": "code",
   "execution_count": 23,
   "id": "860d45c7-940a-4799-af1d-cd92722be5a2",
   "metadata": {},
   "outputs": [],
   "source": [
    "def calc_start_temps(start_date):\n",
    "    \"\"\"TMIN, TAVG, and TMAX for a list of dates.\n",
    "        Args:\n",
    "        start_date (string): A date string in the format %Y-%m-%d\n",
    "        end_date (string): A date string in the format %Y-%m-%d\n",
    "        \n",
    "    Returns:\n",
    "        TMIN, TAVE, and TMAX\n",
    "    \"\"\"\n",
    "    \n",
    "    return session.query(func.min(Measurement.tobs), func.avg(Measurement.tobs), func.max(Measurement.tobs)).\\\n",
    "        filter(Measurement.date >= start_date).all()"
   ]
  },
  {
   "cell_type": "code",
   "execution_count": 24,
   "id": "4847459c-bede-44be-b875-b7a38012584f",
   "metadata": {},
   "outputs": [],
   "source": [
    "@app.route(\"/api/v1.0/<start>\")\n",
    "    \n",
    "def start_date(start):\n",
    "    calc_start_temp = calc_start_temps(start)\n",
    "    t_temp= list(np.ravel(calc_start_temp))\n",
    "    t_min = t_temp[0]\n",
    "    t_max = t_temp[2]\n",
    "    t_avg = t_temp[1]\n",
    "    t_dict = {'Minimum temperature': t_min, 'Maximum temperature': t_max, 'Avg temperature': t_avg}\n",
    "\n",
    "    return jsonify(t_dict)"
   ]
  },
  {
   "cell_type": "code",
   "execution_count": 25,
   "id": "c8399541-ac3b-46df-a37c-abb76bef01f8",
   "metadata": {},
   "outputs": [],
   "source": [
    "def calc_temps(start_date, end_date):\n",
    "    \"\"\"TMIN, TAVG, and TMAX for a list of dates.\n",
    "    Args:\n",
    "    start_date (string): A date string in the format %Y-%m-%d\n",
    "    end_date (string): A date string in the format %Y-%m-%d\n",
    "    Returns:\n",
    "    TMIN, TAVE, and TMAX\n",
    "    \"\"\"\n",
    "    return session.query(func.min(Measurement.tobs), \\\n",
    "                         func.avg(Measurement.tobs), \\\n",
    "                         func.max(Measurement.tobs)).\\\n",
    "                         filter(Measurement.date >= start_date).\\\n",
    "                         filter(Measurement.date <= end_date).all()"
   ]
  },
  {
   "cell_type": "code",
   "execution_count": 26,
   "id": "4c0f3705-9f05-4a2d-8926-3601f903cbff",
   "metadata": {},
   "outputs": [],
   "source": [
    "@app.route(\"/api/v1.0/<start>/<end>\")\n",
    "\n",
    "def start_end_date(start, end):\n",
    "    \n",
    "    calc_temp = calc_temps(start, end)\n",
    "    ta_temp= list(np.ravel(calc_temp))\n",
    "    tmin = ta_temp[0]\n",
    "    tmax = ta_temp[2]\n",
    "    temp_avg = ta_temp[1]\n",
    "    temp_dict = { 'Minimum temperature': tmin, 'Maximum temperature': tmax, 'Avg temperature': temp_avg}\n",
    "\n",
    "    return jsonify(temp_dict)"
   ]
  },
  {
   "cell_type": "code",
   "execution_count": 27,
   "id": "57187fb1-6219-4a64-87d0-cf88883f71d0",
   "metadata": {},
   "outputs": [
    {
     "name": "stdout",
     "output_type": "stream",
     "text": [
      " * Serving Flask app '__main__'\n",
      " * Debug mode: on\n"
     ]
    },
    {
     "name": "stderr",
     "output_type": "stream",
     "text": [
      "WARNING: This is a development server. Do not use it in a production deployment. Use a production WSGI server instead.\n",
      " * Running on http://127.0.0.1:5000\n",
      "Press CTRL+C to quit\n",
      " * Restarting with watchdog (windowsapi)\n"
     ]
    },
    {
     "ename": "SystemExit",
     "evalue": "1",
     "output_type": "error",
     "traceback": [
      "An exception has occurred, use %tb to see the full traceback.\n",
      "\u001b[1;31mSystemExit\u001b[0m\u001b[1;31m:\u001b[0m 1\n"
     ]
    }
   ],
   "source": [
    "if __name__ == '__main__':\n",
    "    app.run(debug=True)"
   ]
  },
  {
   "cell_type": "code",
   "execution_count": null,
   "id": "e2142967-f932-4629-91d4-a1d98e7ab64c",
   "metadata": {},
   "outputs": [],
   "source": []
  },
  {
   "cell_type": "code",
   "execution_count": null,
   "id": "ee79e010-5cd0-4414-b863-34f65e08d16d",
   "metadata": {},
   "outputs": [],
   "source": []
  }
 ],
 "metadata": {
  "kernelspec": {
   "display_name": "Python 3 (ipykernel)",
   "language": "python",
   "name": "python3"
  },
  "language_info": {
   "codemirror_mode": {
    "name": "ipython",
    "version": 3
   },
   "file_extension": ".py",
   "mimetype": "text/x-python",
   "name": "python",
   "nbconvert_exporter": "python",
   "pygments_lexer": "ipython3",
   "version": "3.10.14"
  }
 },
 "nbformat": 4,
 "nbformat_minor": 5
}
